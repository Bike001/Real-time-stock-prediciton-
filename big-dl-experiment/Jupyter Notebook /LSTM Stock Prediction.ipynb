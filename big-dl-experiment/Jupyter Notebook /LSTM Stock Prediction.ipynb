{
 "cells": [
  {
   "cell_type": "code",
   "execution_count": 1,
   "id": "a88aa620",
   "metadata": {},
   "outputs": [
    {
     "name": "stdout",
     "output_type": "stream",
     "text": [
      "0\n",
      "1\n",
      "2\n",
      "3\n",
      "4\n"
     ]
    }
   ],
   "source": [
    "for i in range(0,5):\n",
    "    print(i)"
   ]
  },
  {
   "cell_type": "code",
   "execution_count": 2,
   "id": "a990ac77",
   "metadata": {},
   "outputs": [
    {
     "name": "stdout",
     "output_type": "stream",
     "text": [
      "Collecting matplotlib\n",
      "  Downloading matplotlib-3.5.3-cp37-cp37m-manylinux_2_5_x86_64.manylinux1_x86_64.whl (11.2 MB)\n",
      "\u001b[2K     \u001b[38;2;114;156;31m━━━━━━━━━━━━━━━━━━━━━━━━━━━━━━━━━━━━━━━━\u001b[0m \u001b[32m11.2/11.2 MB\u001b[0m \u001b[31m26.6 MB/s\u001b[0m eta \u001b[36m0:00:00\u001b[0mm eta \u001b[36m0:00:01\u001b[0m:01\u001b[0m:01\u001b[0m\n",
      "\u001b[?25hRequirement already satisfied: python-dateutil>=2.7 in /home/ojash/miniconda3/envs/py37/lib/python3.7/site-packages (from matplotlib) (2.9.0.post0)\n",
      "Collecting cycler>=0.10\n",
      "  Downloading cycler-0.11.0-py3-none-any.whl (6.4 kB)\n",
      "Collecting pyparsing>=2.2.1\n",
      "  Downloading pyparsing-3.1.2-py3-none-any.whl (103 kB)\n",
      "\u001b[2K     \u001b[38;2;114;156;31m━━━━━━━━━━━━━━━━━━━━━━━━━━━━━━━━━━━━━━\u001b[0m \u001b[32m103.2/103.2 kB\u001b[0m \u001b[31m15.5 MB/s\u001b[0m eta \u001b[36m0:00:00\u001b[0m\n",
      "\u001b[?25hRequirement already satisfied: packaging>=20.0 in /home/ojash/miniconda3/envs/py37/lib/python3.7/site-packages (from matplotlib) (24.0)\n",
      "Collecting pillow>=6.2.0\n",
      "  Downloading Pillow-9.5.0-cp37-cp37m-manylinux_2_28_x86_64.whl (3.4 MB)\n",
      "\u001b[2K     \u001b[38;2;114;156;31m━━━━━━━━━━━━━━━━━━━━━━━━━━━━━━━━━━━━━━━━\u001b[0m \u001b[32m3.4/3.4 MB\u001b[0m \u001b[31m26.9 MB/s\u001b[0m eta \u001b[36m0:00:00\u001b[0mm eta \u001b[36m0:00:01\u001b[0m[36m0:00:01\u001b[0m\n",
      "\u001b[?25hCollecting kiwisolver>=1.0.1\n",
      "  Downloading kiwisolver-1.4.5-cp37-cp37m-manylinux_2_5_x86_64.manylinux1_x86_64.whl (1.1 MB)\n",
      "\u001b[2K     \u001b[38;2;114;156;31m━━━━━━━━━━━━━━━━━━━━━━━━━━━━━━━━━━━━━━━━\u001b[0m \u001b[32m1.1/1.1 MB\u001b[0m \u001b[31m23.2 MB/s\u001b[0m eta \u001b[36m0:00:00\u001b[0m MB/s\u001b[0m eta \u001b[36m0:00:01\u001b[0m\n",
      "\u001b[?25hCollecting fonttools>=4.22.0\n",
      "  Downloading fonttools-4.38.0-py3-none-any.whl (965 kB)\n",
      "\u001b[2K     \u001b[38;2;114;156;31m━━━━━━━━━━━━━━━━━━━━━━━━━━━━━━━━━━━━━━\u001b[0m \u001b[32m965.4/965.4 kB\u001b[0m \u001b[31m29.4 MB/s\u001b[0m eta \u001b[36m0:00:00\u001b[0m\n",
      "\u001b[?25hRequirement already satisfied: numpy>=1.17 in /home/ojash/miniconda3/envs/py37/lib/python3.7/site-packages (from matplotlib) (1.21.6)\n",
      "Requirement already satisfied: typing-extensions in /home/ojash/miniconda3/envs/py37/lib/python3.7/site-packages (from kiwisolver>=1.0.1->matplotlib) (4.7.1)\n",
      "Requirement already satisfied: six>=1.5 in /home/ojash/miniconda3/envs/py37/lib/python3.7/site-packages (from python-dateutil>=2.7->matplotlib) (1.16.0)\n",
      "Installing collected packages: pyparsing, pillow, kiwisolver, fonttools, cycler, matplotlib\n",
      "Successfully installed cycler-0.11.0 fonttools-4.38.0 kiwisolver-1.4.5 matplotlib-3.5.3 pillow-9.5.0 pyparsing-3.1.2\n",
      "Note: you may need to restart the kernel to use updated packages.\n"
     ]
    }
   ],
   "source": [
    "pip install matplotlib"
   ]
  },
  {
   "cell_type": "code",
   "execution_count": 4,
   "id": "fbe3b8d1",
   "metadata": {},
   "outputs": [
    {
     "name": "stdout",
     "output_type": "stream",
     "text": [
      "Collecting pandas\n",
      "  Using cached pandas-1.3.5-cp37-cp37m-manylinux_2_17_x86_64.manylinux2014_x86_64.whl (11.3 MB)\n",
      "Requirement already satisfied: numpy>=1.17.3 in /home/ojash/miniconda3/envs/py37/lib/python3.7/site-packages (from pandas) (1.21.6)\n",
      "Collecting pytz>=2017.3\n",
      "  Using cached pytz-2024.1-py2.py3-none-any.whl (505 kB)\n",
      "Requirement already satisfied: python-dateutil>=2.7.3 in /home/ojash/miniconda3/envs/py37/lib/python3.7/site-packages (from pandas) (2.9.0.post0)\n",
      "Requirement already satisfied: six>=1.5 in /home/ojash/miniconda3/envs/py37/lib/python3.7/site-packages (from python-dateutil>=2.7.3->pandas) (1.16.0)\n",
      "Installing collected packages: pytz, pandas\n",
      "Successfully installed pandas-1.3.5 pytz-2024.1\n",
      "Note: you may need to restart the kernel to use updated packages.\n"
     ]
    }
   ],
   "source": [
    "pip install pandas"
   ]
  },
  {
   "cell_type": "code",
   "execution_count": 5,
   "id": "375d7609",
   "metadata": {},
   "outputs": [],
   "source": [
    "import numpy as np\n",
    "import matplotlib.pyplot as plt\n",
    "import pandas as pd"
   ]
  },
  {
   "cell_type": "code",
   "execution_count": 9,
   "id": "4d165f2f",
   "metadata": {},
   "outputs": [],
   "source": [
    "url = 'https://raw.githubusercontent.com/mwitiderrick/stockprice/master/NSE-TATAGLOBAL.csv'\n",
    "dataset_train = pd.read_csv(url)\n",
    "training_set = dataset_train.iloc[:, 1:2].values"
   ]
  },
  {
   "cell_type": "code",
   "execution_count": 10,
   "id": "62f5b3d4",
   "metadata": {},
   "outputs": [
    {
     "data": {
      "text/html": [
       "<div>\n",
       "<style scoped>\n",
       "    .dataframe tbody tr th:only-of-type {\n",
       "        vertical-align: middle;\n",
       "    }\n",
       "\n",
       "    .dataframe tbody tr th {\n",
       "        vertical-align: top;\n",
       "    }\n",
       "\n",
       "    .dataframe thead th {\n",
       "        text-align: right;\n",
       "    }\n",
       "</style>\n",
       "<table border=\"1\" class=\"dataframe\">\n",
       "  <thead>\n",
       "    <tr style=\"text-align: right;\">\n",
       "      <th></th>\n",
       "      <th>Date</th>\n",
       "      <th>Open</th>\n",
       "      <th>High</th>\n",
       "      <th>Low</th>\n",
       "      <th>Last</th>\n",
       "      <th>Close</th>\n",
       "      <th>Total Trade Quantity</th>\n",
       "      <th>Turnover (Lacs)</th>\n",
       "    </tr>\n",
       "  </thead>\n",
       "  <tbody>\n",
       "    <tr>\n",
       "      <th>0</th>\n",
       "      <td>2018-09-28</td>\n",
       "      <td>234.05</td>\n",
       "      <td>235.95</td>\n",
       "      <td>230.20</td>\n",
       "      <td>233.50</td>\n",
       "      <td>233.75</td>\n",
       "      <td>3069914</td>\n",
       "      <td>7162.35</td>\n",
       "    </tr>\n",
       "    <tr>\n",
       "      <th>1</th>\n",
       "      <td>2018-09-27</td>\n",
       "      <td>234.55</td>\n",
       "      <td>236.80</td>\n",
       "      <td>231.10</td>\n",
       "      <td>233.80</td>\n",
       "      <td>233.25</td>\n",
       "      <td>5082859</td>\n",
       "      <td>11859.95</td>\n",
       "    </tr>\n",
       "    <tr>\n",
       "      <th>2</th>\n",
       "      <td>2018-09-26</td>\n",
       "      <td>240.00</td>\n",
       "      <td>240.00</td>\n",
       "      <td>232.50</td>\n",
       "      <td>235.00</td>\n",
       "      <td>234.25</td>\n",
       "      <td>2240909</td>\n",
       "      <td>5248.60</td>\n",
       "    </tr>\n",
       "    <tr>\n",
       "      <th>3</th>\n",
       "      <td>2018-09-25</td>\n",
       "      <td>233.30</td>\n",
       "      <td>236.75</td>\n",
       "      <td>232.00</td>\n",
       "      <td>236.25</td>\n",
       "      <td>236.10</td>\n",
       "      <td>2349368</td>\n",
       "      <td>5503.90</td>\n",
       "    </tr>\n",
       "    <tr>\n",
       "      <th>4</th>\n",
       "      <td>2018-09-24</td>\n",
       "      <td>233.55</td>\n",
       "      <td>239.20</td>\n",
       "      <td>230.75</td>\n",
       "      <td>234.00</td>\n",
       "      <td>233.30</td>\n",
       "      <td>3423509</td>\n",
       "      <td>7999.55</td>\n",
       "    </tr>\n",
       "  </tbody>\n",
       "</table>\n",
       "</div>"
      ],
      "text/plain": [
       "         Date    Open    High     Low    Last   Close  Total Trade Quantity  \\\n",
       "0  2018-09-28  234.05  235.95  230.20  233.50  233.75               3069914   \n",
       "1  2018-09-27  234.55  236.80  231.10  233.80  233.25               5082859   \n",
       "2  2018-09-26  240.00  240.00  232.50  235.00  234.25               2240909   \n",
       "3  2018-09-25  233.30  236.75  232.00  236.25  236.10               2349368   \n",
       "4  2018-09-24  233.55  239.20  230.75  234.00  233.30               3423509   \n",
       "\n",
       "   Turnover (Lacs)  \n",
       "0          7162.35  \n",
       "1         11859.95  \n",
       "2          5248.60  \n",
       "3          5503.90  \n",
       "4          7999.55  "
      ]
     },
     "execution_count": 10,
     "metadata": {},
     "output_type": "execute_result"
    }
   ],
   "source": [
    "dataset_train.head()"
   ]
  },
  {
   "cell_type": "code",
   "execution_count": 11,
   "id": "f456c784",
   "metadata": {},
   "outputs": [],
   "source": [
    "#https://towardsdatascience.com/predicting-stock-prices-using-a-keras-lstm-model-4225457f0233"
   ]
  },
  {
   "cell_type": "code",
   "execution_count": 15,
   "id": "f230b1bf",
   "metadata": {},
   "outputs": [
    {
     "name": "stdout",
     "output_type": "stream",
     "text": [
      "Collecting scikit-learn\n",
      "  Using cached scikit_learn-1.0.2-cp37-cp37m-manylinux_2_17_x86_64.manylinux2014_x86_64.whl (24.8 MB)\n",
      "Collecting threadpoolctl>=2.0.0\n",
      "  Using cached threadpoolctl-3.1.0-py3-none-any.whl (14 kB)\n",
      "Collecting scipy>=1.1.0\n",
      "  Using cached scipy-1.7.3-cp37-cp37m-manylinux_2_12_x86_64.manylinux2010_x86_64.whl (38.1 MB)\n",
      "Collecting joblib>=0.11\n",
      "  Using cached joblib-1.3.2-py3-none-any.whl (302 kB)\n",
      "Requirement already satisfied: numpy>=1.14.6 in /home/ojash/miniconda3/envs/py37/lib/python3.7/site-packages (from scikit-learn) (1.21.6)\n",
      "Installing collected packages: threadpoolctl, scipy, joblib, scikit-learn\n",
      "Successfully installed joblib-1.3.2 scikit-learn-1.0.2 scipy-1.7.3 threadpoolctl-3.1.0\n",
      "Note: you may need to restart the kernel to use updated packages.\n"
     ]
    }
   ],
   "source": [
    "pip install scikit-learn\n"
   ]
  },
  {
   "cell_type": "code",
   "execution_count": 16,
   "id": "c570d4ae",
   "metadata": {},
   "outputs": [],
   "source": [
    "from sklearn.preprocessing import MinMaxScaler\n",
    "sc = MinMaxScaler(feature_range=(0,1))\n",
    "training_set_scaled = sc.fit_transform(training_set)"
   ]
  },
  {
   "cell_type": "code",
   "execution_count": 19,
   "id": "b92f37ca",
   "metadata": {},
   "outputs": [],
   "source": [
    "X_train = []\n",
    "y_train = []\n",
    "for i in range(60, 2035):\n",
    "    X_train.append(training_set_scaled[i-60:i, 0])\n",
    "    y_train.append(training_set_scaled[i, 0])\n",
    "X_train, y_train = np.array(X_train), np.array(y_train)\n",
    "X_train = np.reshape(X_train, (X_train.shape[0], X_train.shape[1], 1))"
   ]
  },
  {
   "cell_type": "code",
   "execution_count": 23,
   "id": "5396b6af",
   "metadata": {},
   "outputs": [
    {
     "name": "stdout",
     "output_type": "stream",
     "text": [
      "Collecting tensorflow\n",
      "  Using cached tensorflow-2.11.0-cp37-cp37m-manylinux_2_17_x86_64.manylinux2014_x86_64.whl (588.3 MB)\n",
      "Collecting h5py>=2.9.0\n",
      "  Using cached h5py-3.8.0-cp37-cp37m-manylinux_2_17_x86_64.manylinux2014_x86_64.whl (4.3 MB)\n",
      "Collecting tensorflow-estimator<2.12,>=2.11.0\n",
      "  Using cached tensorflow_estimator-2.11.0-py2.py3-none-any.whl (439 kB)\n",
      "Collecting keras<2.12,>=2.11.0\n",
      "  Using cached keras-2.11.0-py2.py3-none-any.whl (1.7 MB)\n",
      "Collecting protobuf<3.20,>=3.9.2\n",
      "  Using cached protobuf-3.19.6-cp37-cp37m-manylinux_2_17_x86_64.manylinux2014_x86_64.whl (1.1 MB)\n",
      "Requirement already satisfied: wrapt>=1.11.0 in /home/ojash/miniconda3/envs/py37/lib/python3.7/site-packages (from tensorflow) (1.16.0)\n",
      "Requirement already satisfied: grpcio<2.0,>=1.24.3 in /home/ojash/miniconda3/envs/py37/lib/python3.7/site-packages (from tensorflow) (1.62.2)\n",
      "Requirement already satisfied: six>=1.12.0 in /home/ojash/miniconda3/envs/py37/lib/python3.7/site-packages (from tensorflow) (1.16.0)\n",
      "Collecting flatbuffers>=2.0\n",
      "  Using cached flatbuffers-24.3.25-py2.py3-none-any.whl (26 kB)\n",
      "Requirement already satisfied: setuptools in /home/ojash/miniconda3/envs/py37/lib/python3.7/site-packages (from tensorflow) (65.6.3)\n",
      "Collecting tensorboard<2.12,>=2.11\n",
      "  Using cached tensorboard-2.11.2-py3-none-any.whl (6.0 MB)\n",
      "Requirement already satisfied: numpy>=1.20 in /home/ojash/miniconda3/envs/py37/lib/python3.7/site-packages (from tensorflow) (1.21.6)\n",
      "Collecting gast<=0.4.0,>=0.2.1\n",
      "  Using cached gast-0.4.0-py3-none-any.whl (9.8 kB)\n",
      "Collecting absl-py>=1.0.0\n",
      "  Using cached absl_py-2.1.0-py3-none-any.whl (133 kB)\n",
      "Collecting libclang>=13.0.0\n",
      "  Using cached libclang-18.1.1-py2.py3-none-manylinux2010_x86_64.whl (24.5 MB)\n",
      "Collecting google-pasta>=0.1.1\n",
      "  Using cached google_pasta-0.2.0-py3-none-any.whl (57 kB)\n",
      "Collecting termcolor>=1.1.0\n",
      "  Using cached termcolor-2.3.0-py3-none-any.whl (6.9 kB)\n",
      "Requirement already satisfied: typing-extensions>=3.6.6 in /home/ojash/miniconda3/envs/py37/lib/python3.7/site-packages (from tensorflow) (4.7.1)\n",
      "Collecting astunparse>=1.6.0\n",
      "  Using cached astunparse-1.6.3-py2.py3-none-any.whl (12 kB)\n",
      "Requirement already satisfied: packaging in /home/ojash/miniconda3/envs/py37/lib/python3.7/site-packages (from tensorflow) (24.0)\n",
      "Collecting opt-einsum>=2.3.2\n",
      "  Using cached opt_einsum-3.3.0-py3-none-any.whl (65 kB)\n",
      "Collecting tensorflow-io-gcs-filesystem>=0.23.1\n",
      "  Using cached tensorflow_io_gcs_filesystem-0.34.0-cp37-cp37m-manylinux_2_12_x86_64.manylinux2010_x86_64.whl (2.4 MB)\n",
      "Requirement already satisfied: wheel<1.0,>=0.23.0 in /home/ojash/miniconda3/envs/py37/lib/python3.7/site-packages (from astunparse>=1.6.0->tensorflow) (0.38.4)\n",
      "Collecting tensorboard-plugin-wit>=1.6.0\n",
      "  Using cached tensorboard_plugin_wit-1.8.1-py3-none-any.whl (781 kB)\n",
      "Collecting werkzeug>=1.0.1\n",
      "  Using cached Werkzeug-2.2.3-py3-none-any.whl (233 kB)\n",
      "Collecting markdown>=2.6.8\n",
      "  Using cached Markdown-3.4.4-py3-none-any.whl (94 kB)\n",
      "Collecting tensorboard-data-server<0.7.0,>=0.6.0\n",
      "  Using cached tensorboard_data_server-0.6.1-py3-none-manylinux2010_x86_64.whl (4.9 MB)\n",
      "Collecting google-auth-oauthlib<0.5,>=0.4.1\n",
      "  Using cached google_auth_oauthlib-0.4.6-py2.py3-none-any.whl (18 kB)\n",
      "Requirement already satisfied: google-auth<3,>=1.6.3 in /home/ojash/miniconda3/envs/py37/lib/python3.7/site-packages (from tensorboard<2.12,>=2.11->tensorflow) (2.29.0)\n",
      "Requirement already satisfied: requests<3,>=2.21.0 in /home/ojash/miniconda3/envs/py37/lib/python3.7/site-packages (from tensorboard<2.12,>=2.11->tensorflow) (2.31.0)\n",
      "Requirement already satisfied: pyasn1-modules>=0.2.1 in /home/ojash/miniconda3/envs/py37/lib/python3.7/site-packages (from google-auth<3,>=1.6.3->tensorboard<2.12,>=2.11->tensorflow) (0.3.0)\n",
      "Requirement already satisfied: cachetools<6.0,>=2.0.0 in /home/ojash/miniconda3/envs/py37/lib/python3.7/site-packages (from google-auth<3,>=1.6.3->tensorboard<2.12,>=2.11->tensorflow) (5.3.3)\n",
      "Requirement already satisfied: rsa<5,>=3.1.4 in /home/ojash/miniconda3/envs/py37/lib/python3.7/site-packages (from google-auth<3,>=1.6.3->tensorboard<2.12,>=2.11->tensorflow) (4.9)\n",
      "Collecting requests-oauthlib>=0.7.0\n",
      "  Using cached requests_oauthlib-2.0.0-py2.py3-none-any.whl (24 kB)\n",
      "Requirement already satisfied: importlib-metadata>=4.4 in /home/ojash/miniconda3/envs/py37/lib/python3.7/site-packages (from markdown>=2.6.8->tensorboard<2.12,>=2.11->tensorflow) (6.7.0)\n",
      "Requirement already satisfied: charset-normalizer<4,>=2 in /home/ojash/miniconda3/envs/py37/lib/python3.7/site-packages (from requests<3,>=2.21.0->tensorboard<2.12,>=2.11->tensorflow) (3.3.2)\n",
      "Requirement already satisfied: certifi>=2017.4.17 in /home/ojash/miniconda3/envs/py37/lib/python3.7/site-packages (from requests<3,>=2.21.0->tensorboard<2.12,>=2.11->tensorflow) (2022.12.7)\n",
      "Requirement already satisfied: urllib3<3,>=1.21.1 in /home/ojash/miniconda3/envs/py37/lib/python3.7/site-packages (from requests<3,>=2.21.0->tensorboard<2.12,>=2.11->tensorflow) (2.0.7)\n",
      "Requirement already satisfied: idna<4,>=2.5 in /home/ojash/miniconda3/envs/py37/lib/python3.7/site-packages (from requests<3,>=2.21.0->tensorboard<2.12,>=2.11->tensorflow) (3.7)\n",
      "Requirement already satisfied: MarkupSafe>=2.1.1 in /home/ojash/miniconda3/envs/py37/lib/python3.7/site-packages (from werkzeug>=1.0.1->tensorboard<2.12,>=2.11->tensorflow) (2.1.5)\n",
      "Requirement already satisfied: zipp>=0.5 in /home/ojash/miniconda3/envs/py37/lib/python3.7/site-packages (from importlib-metadata>=4.4->markdown>=2.6.8->tensorboard<2.12,>=2.11->tensorflow) (3.15.0)\n",
      "Requirement already satisfied: pyasn1<0.6.0,>=0.4.6 in /home/ojash/miniconda3/envs/py37/lib/python3.7/site-packages (from pyasn1-modules>=0.2.1->google-auth<3,>=1.6.3->tensorboard<2.12,>=2.11->tensorflow) (0.5.1)\n",
      "Collecting oauthlib>=3.0.0\n",
      "  Using cached oauthlib-3.2.2-py3-none-any.whl (151 kB)\n",
      "Installing collected packages: tensorboard-plugin-wit, libclang, flatbuffers, werkzeug, termcolor, tensorflow-io-gcs-filesystem, tensorflow-estimator, tensorboard-data-server, protobuf, opt-einsum, oauthlib, keras, h5py, google-pasta, gast, astunparse, absl-py, requests-oauthlib, markdown, google-auth-oauthlib, tensorboard, tensorflow\n",
      "  Attempting uninstall: protobuf\n",
      "    Found existing installation: protobuf 3.20.3\n",
      "    Uninstalling protobuf-3.20.3:\n",
      "      Successfully uninstalled protobuf-3.20.3\n",
      "Successfully installed absl-py-2.1.0 astunparse-1.6.3 flatbuffers-24.3.25 gast-0.4.0 google-auth-oauthlib-0.4.6 google-pasta-0.2.0 h5py-3.8.0 keras-2.11.0 libclang-18.1.1 markdown-3.4.4 oauthlib-3.2.2 opt-einsum-3.3.0 protobuf-3.19.6 requests-oauthlib-2.0.0 tensorboard-2.11.2 tensorboard-data-server-0.6.1 tensorboard-plugin-wit-1.8.1 tensorflow-2.11.0 tensorflow-estimator-2.11.0 tensorflow-io-gcs-filesystem-0.34.0 termcolor-2.3.0 werkzeug-2.2.3\n",
      "Note: you may need to restart the kernel to use updated packages.\n"
     ]
    }
   ],
   "source": [
    "pip install tensorflow"
   ]
  },
  {
   "cell_type": "code",
   "execution_count": 24,
   "id": "a5ab2c97",
   "metadata": {},
   "outputs": [
    {
     "name": "stderr",
     "output_type": "stream",
     "text": [
      "2024-05-03 05:55:34.153761: I tensorflow/core/platform/cpu_feature_guard.cc:193] This TensorFlow binary is optimized with oneAPI Deep Neural Network Library (oneDNN) to use the following CPU instructions in performance-critical operations:  AVX2 FMA\n",
      "To enable them in other operations, rebuild TensorFlow with the appropriate compiler flags.\n",
      "2024-05-03 05:55:34.348799: W tensorflow/compiler/xla/stream_executor/platform/default/dso_loader.cc:64] Could not load dynamic library 'libcudart.so.11.0'; dlerror: libcudart.so.11.0: cannot open shared object file: No such file or directory\n",
      "2024-05-03 05:55:34.348833: I tensorflow/compiler/xla/stream_executor/cuda/cudart_stub.cc:29] Ignore above cudart dlerror if you do not have a GPU set up on your machine.\n",
      "2024-05-03 05:55:36.529661: W tensorflow/compiler/xla/stream_executor/platform/default/dso_loader.cc:64] Could not load dynamic library 'libnvinfer.so.7'; dlerror: libnvinfer.so.7: cannot open shared object file: No such file or directory\n",
      "2024-05-03 05:55:36.567059: W tensorflow/compiler/xla/stream_executor/platform/default/dso_loader.cc:64] Could not load dynamic library 'libnvinfer_plugin.so.7'; dlerror: libnvinfer_plugin.so.7: cannot open shared object file: No such file or directory\n",
      "2024-05-03 05:55:36.567112: W tensorflow/compiler/tf2tensorrt/utils/py_utils.cc:38] TF-TRT Warning: Cannot dlopen some TensorRT libraries. If you would like to use Nvidia GPU with TensorRT, please make sure the missing libraries mentioned above are installed properly.\n"
     ]
    }
   ],
   "source": [
    "import tensorflow as tf"
   ]
  },
  {
   "cell_type": "code",
   "execution_count": 25,
   "id": "660eb7d4",
   "metadata": {},
   "outputs": [],
   "source": [
    "from keras.models import Sequential\n",
    "from keras.layers import LSTM\n",
    "from keras.layers import Dropout\n",
    "from keras.layers import Dense"
   ]
  },
  {
   "cell_type": "code",
   "execution_count": 26,
   "id": "ee121924",
   "metadata": {},
   "outputs": [
    {
     "name": "stderr",
     "output_type": "stream",
     "text": [
      "2024-05-03 05:57:54.194741: W tensorflow/compiler/xla/stream_executor/platform/default/dso_loader.cc:64] Could not load dynamic library 'libcuda.so.1'; dlerror: libcuda.so.1: cannot open shared object file: No such file or directory\n",
      "2024-05-03 05:57:54.194873: W tensorflow/compiler/xla/stream_executor/cuda/cuda_driver.cc:265] failed call to cuInit: UNKNOWN ERROR (303)\n",
      "2024-05-03 05:57:54.194900: I tensorflow/compiler/xla/stream_executor/cuda/cuda_diagnostics.cc:156] kernel driver does not appear to be running on this host (ojash-VMware-Virtual-Platform): /proc/driver/nvidia/version does not exist\n",
      "2024-05-03 05:57:54.197791: I tensorflow/core/platform/cpu_feature_guard.cc:193] This TensorFlow binary is optimized with oneAPI Deep Neural Network Library (oneDNN) to use the following CPU instructions in performance-critical operations:  AVX2 FMA\n",
      "To enable them in other operations, rebuild TensorFlow with the appropriate compiler flags.\n"
     ]
    },
    {
     "name": "stdout",
     "output_type": "stream",
     "text": [
      "Epoch 1/100\n",
      "62/62 [==============================] - 23s 205ms/step - loss: 0.0059\n",
      "Epoch 2/100\n",
      "62/62 [==============================] - 13s 211ms/step - loss: 0.0033\n",
      "Epoch 3/100\n",
      "62/62 [==============================] - 14s 234ms/step - loss: 0.0025\n",
      "Epoch 4/100\n",
      "62/62 [==============================] - 14s 218ms/step - loss: 0.0024\n",
      "Epoch 5/100\n",
      "62/62 [==============================] - 14s 227ms/step - loss: 0.0026\n",
      "Epoch 6/100\n",
      "62/62 [==============================] - 13s 213ms/step - loss: 0.0026\n",
      "Epoch 7/100\n",
      "62/62 [==============================] - 14s 230ms/step - loss: 0.0021\n",
      "Epoch 8/100\n",
      "62/62 [==============================] - 16s 249ms/step - loss: 0.0018\n",
      "Epoch 9/100\n",
      "62/62 [==============================] - 16s 256ms/step - loss: 0.0018\n",
      "Epoch 10/100\n",
      "62/62 [==============================] - 14s 232ms/step - loss: 0.0019\n",
      "Epoch 11/100\n",
      "62/62 [==============================] - 14s 224ms/step - loss: 0.0017\n",
      "Epoch 12/100\n",
      "62/62 [==============================] - 16s 249ms/step - loss: 0.0020\n",
      "Epoch 13/100\n",
      "62/62 [==============================] - 13s 213ms/step - loss: 0.0016\n",
      "Epoch 14/100\n",
      "62/62 [==============================] - 13s 205ms/step - loss: 0.0014\n",
      "Epoch 15/100\n",
      "62/62 [==============================] - 13s 216ms/step - loss: 0.0016\n",
      "Epoch 16/100\n",
      "62/62 [==============================] - 18s 288ms/step - loss: 0.0015\n",
      "Epoch 17/100\n",
      "62/62 [==============================] - 14s 221ms/step - loss: 0.0016\n",
      "Epoch 18/100\n",
      "62/62 [==============================] - 13s 216ms/step - loss: 0.0014\n",
      "Epoch 19/100\n",
      "62/62 [==============================] - 14s 226ms/step - loss: 0.0013\n",
      "Epoch 20/100\n",
      "62/62 [==============================] - 14s 224ms/step - loss: 0.0014\n",
      "Epoch 21/100\n",
      "62/62 [==============================] - 16s 256ms/step - loss: 0.0014\n",
      "Epoch 22/100\n",
      "62/62 [==============================] - 14s 231ms/step - loss: 0.0012\n",
      "Epoch 23/100\n",
      "62/62 [==============================] - 15s 238ms/step - loss: 0.0014\n",
      "Epoch 24/100\n",
      "62/62 [==============================] - 15s 246ms/step - loss: 0.0012\n",
      "Epoch 25/100\n",
      "62/62 [==============================] - 13s 217ms/step - loss: 0.0013\n",
      "Epoch 26/100\n",
      "62/62 [==============================] - 14s 218ms/step - loss: 0.0011\n",
      "Epoch 27/100\n",
      "62/62 [==============================] - 13s 210ms/step - loss: 0.0012\n",
      "Epoch 28/100\n",
      "62/62 [==============================] - 13s 210ms/step - loss: 0.0011\n",
      "Epoch 29/100\n",
      "62/62 [==============================] - 13s 214ms/step - loss: 0.0012\n",
      "Epoch 30/100\n",
      "62/62 [==============================] - 13s 210ms/step - loss: 0.0011\n",
      "Epoch 31/100\n",
      "62/62 [==============================] - 14s 217ms/step - loss: 0.0011\n",
      "Epoch 32/100\n",
      "62/62 [==============================] - 13s 211ms/step - loss: 9.7799e-04\n",
      "Epoch 33/100\n",
      "62/62 [==============================] - 14s 217ms/step - loss: 9.7832e-04\n",
      "Epoch 34/100\n",
      "62/62 [==============================] - 14s 217ms/step - loss: 0.0011\n",
      "Epoch 35/100\n",
      "62/62 [==============================] - 14s 217ms/step - loss: 9.2090e-04\n",
      "Epoch 36/100\n",
      "62/62 [==============================] - 13s 213ms/step - loss: 8.8302e-04\n",
      "Epoch 37/100\n",
      "62/62 [==============================] - 13s 208ms/step - loss: 0.0011\n",
      "Epoch 38/100\n",
      "62/62 [==============================] - 14s 218ms/step - loss: 0.0011\n",
      "Epoch 39/100\n",
      "62/62 [==============================] - 13s 211ms/step - loss: 8.5292e-04\n",
      "Epoch 40/100\n",
      "62/62 [==============================] - 14s 219ms/step - loss: 9.3070e-04\n",
      "Epoch 41/100\n",
      "62/62 [==============================] - 13s 214ms/step - loss: 9.2435e-04\n",
      "Epoch 42/100\n",
      "62/62 [==============================] - 13s 213ms/step - loss: 9.5844e-04\n",
      "Epoch 43/100\n",
      "62/62 [==============================] - 13s 212ms/step - loss: 7.6052e-04\n",
      "Epoch 44/100\n",
      "62/62 [==============================] - 13s 214ms/step - loss: 8.5715e-04\n",
      "Epoch 45/100\n",
      "62/62 [==============================] - 13s 216ms/step - loss: 8.3925e-04\n",
      "Epoch 46/100\n",
      "62/62 [==============================] - 13s 212ms/step - loss: 9.1843e-04\n",
      "Epoch 47/100\n",
      "62/62 [==============================] - 13s 214ms/step - loss: 8.1830e-04\n",
      "Epoch 48/100\n",
      "62/62 [==============================] - 13s 212ms/step - loss: 9.0576e-04\n",
      "Epoch 49/100\n",
      "62/62 [==============================] - 13s 214ms/step - loss: 8.3642e-04\n",
      "Epoch 50/100\n",
      "62/62 [==============================] - 14s 218ms/step - loss: 8.8211e-04\n",
      "Epoch 51/100\n",
      "62/62 [==============================] - 13s 216ms/step - loss: 8.3125e-04\n",
      "Epoch 52/100\n",
      "62/62 [==============================] - 13s 213ms/step - loss: 7.3855e-04\n",
      "Epoch 53/100\n",
      "62/62 [==============================] - 13s 212ms/step - loss: 9.1251e-04\n",
      "Epoch 54/100\n",
      "62/62 [==============================] - 13s 215ms/step - loss: 7.8488e-04\n",
      "Epoch 55/100\n",
      "62/62 [==============================] - 13s 216ms/step - loss: 8.4436e-04\n",
      "Epoch 56/100\n",
      "62/62 [==============================] - 14s 217ms/step - loss: 7.0873e-04\n",
      "Epoch 57/100\n",
      "62/62 [==============================] - 13s 215ms/step - loss: 8.4951e-04\n",
      "Epoch 58/100\n",
      "62/62 [==============================] - 14s 217ms/step - loss: 7.4526e-04\n",
      "Epoch 59/100\n",
      "62/62 [==============================] - 13s 216ms/step - loss: 6.8873e-04\n",
      "Epoch 60/100\n",
      "62/62 [==============================] - 14s 218ms/step - loss: 6.3736e-04\n",
      "Epoch 61/100\n",
      "62/62 [==============================] - 13s 213ms/step - loss: 7.3827e-04\n",
      "Epoch 62/100\n",
      "62/62 [==============================] - 13s 213ms/step - loss: 8.0168e-04\n",
      "Epoch 63/100\n",
      "62/62 [==============================] - 14s 231ms/step - loss: 6.7597e-04\n",
      "Epoch 64/100\n",
      "62/62 [==============================] - 13s 209ms/step - loss: 6.8782e-04\n",
      "Epoch 65/100\n",
      "62/62 [==============================] - 13s 215ms/step - loss: 6.5682e-04\n",
      "Epoch 66/100\n",
      "62/62 [==============================] - 13s 209ms/step - loss: 7.5450e-04\n",
      "Epoch 67/100\n",
      "62/62 [==============================] - 13s 214ms/step - loss: 6.7913e-04\n",
      "Epoch 68/100\n",
      "62/62 [==============================] - 13s 217ms/step - loss: 6.1073e-04\n",
      "Epoch 69/100\n",
      "62/62 [==============================] - 13s 209ms/step - loss: 7.5258e-04\n",
      "Epoch 70/100\n",
      "62/62 [==============================] - 13s 216ms/step - loss: 7.5507e-04\n",
      "Epoch 71/100\n",
      "62/62 [==============================] - 14s 218ms/step - loss: 6.2517e-04\n",
      "Epoch 72/100\n",
      "62/62 [==============================] - 13s 217ms/step - loss: 7.2840e-04\n",
      "Epoch 73/100\n",
      "62/62 [==============================] - 14s 218ms/step - loss: 7.3145e-04\n",
      "Epoch 74/100\n",
      "62/62 [==============================] - 13s 215ms/step - loss: 6.5217e-04\n",
      "Epoch 75/100\n",
      "62/62 [==============================] - 14s 222ms/step - loss: 7.6091e-04\n",
      "Epoch 76/100\n",
      "62/62 [==============================] - 15s 235ms/step - loss: 6.7025e-04\n",
      "Epoch 77/100\n",
      "62/62 [==============================] - 13s 215ms/step - loss: 6.3974e-04\n",
      "Epoch 78/100\n",
      "62/62 [==============================] - 13s 217ms/step - loss: 7.5753e-04\n",
      "Epoch 79/100\n",
      "62/62 [==============================] - 14s 229ms/step - loss: 6.1565e-04\n",
      "Epoch 80/100\n",
      "62/62 [==============================] - 13s 215ms/step - loss: 7.0546e-04\n",
      "Epoch 81/100\n",
      "62/62 [==============================] - 13s 217ms/step - loss: 6.3871e-04\n",
      "Epoch 82/100\n",
      "62/62 [==============================] - 14s 219ms/step - loss: 6.7484e-04\n",
      "Epoch 83/100\n",
      "62/62 [==============================] - 16s 262ms/step - loss: 6.4150e-04\n",
      "Epoch 84/100\n",
      "62/62 [==============================] - 14s 226ms/step - loss: 6.4256e-04\n",
      "Epoch 85/100\n",
      "62/62 [==============================] - 14s 220ms/step - loss: 6.6061e-04\n",
      "Epoch 86/100\n",
      "62/62 [==============================] - 14s 219ms/step - loss: 6.5007e-04\n",
      "Epoch 87/100\n",
      "62/62 [==============================] - 13s 217ms/step - loss: 6.5683e-04\n",
      "Epoch 88/100\n",
      "62/62 [==============================] - 14s 222ms/step - loss: 6.2084e-04\n",
      "Epoch 89/100\n",
      "62/62 [==============================] - 14s 222ms/step - loss: 7.5890e-04\n",
      "Epoch 90/100\n",
      "62/62 [==============================] - 14s 217ms/step - loss: 6.3589e-04\n",
      "Epoch 91/100\n",
      "62/62 [==============================] - 13s 215ms/step - loss: 6.6252e-04\n",
      "Epoch 92/100\n",
      "62/62 [==============================] - 14s 220ms/step - loss: 7.4504e-04\n",
      "Epoch 93/100\n",
      "62/62 [==============================] - 13s 216ms/step - loss: 6.7274e-04\n",
      "Epoch 94/100\n",
      "62/62 [==============================] - 14s 218ms/step - loss: 7.4321e-04\n",
      "Epoch 95/100\n"
     ]
    },
    {
     "name": "stdout",
     "output_type": "stream",
     "text": [
      "62/62 [==============================] - 13s 217ms/step - loss: 6.2150e-04\n",
      "Epoch 96/100\n",
      "62/62 [==============================] - 14s 221ms/step - loss: 5.2821e-04\n",
      "Epoch 97/100\n",
      "62/62 [==============================] - 14s 218ms/step - loss: 6.2298e-04\n",
      "Epoch 98/100\n",
      "62/62 [==============================] - 13s 217ms/step - loss: 6.3401e-04\n",
      "Epoch 99/100\n",
      "62/62 [==============================] - 14s 218ms/step - loss: 5.8982e-04\n",
      "Epoch 100/100\n",
      "62/62 [==============================] - 14s 222ms/step - loss: 5.2432e-04\n"
     ]
    },
    {
     "data": {
      "text/plain": [
       "<keras.callbacks.History at 0x7f6d014d2c90>"
      ]
     },
     "execution_count": 26,
     "metadata": {},
     "output_type": "execute_result"
    }
   ],
   "source": [
    "model = Sequential()\n",
    "model.add(LSTM(units=50,return_sequences=True,input_shape=(X_train.shape[1], 1)))\n",
    "model.add(Dropout(0.2))\n",
    "model.add(LSTM(units=50,return_sequences=True))\n",
    "model.add(Dropout(0.2))\n",
    "model.add(LSTM(units=50,return_sequences=True))\n",
    "model.add(Dropout(0.2))\n",
    "model.add(LSTM(units=50))\n",
    "model.add(Dropout(0.2))\n",
    "model.add(Dense(units=1))\n",
    "model.compile(optimizer='adam',loss='mean_squared_error')\n",
    "model.fit(X_train,y_train,epochs=100,batch_size=32)"
   ]
  },
  {
   "cell_type": "code",
   "execution_count": 27,
   "id": "e6e235bc",
   "metadata": {},
   "outputs": [],
   "source": [
    "#Prediction on Test Set"
   ]
  },
  {
   "cell_type": "code",
   "execution_count": 28,
   "id": "e6193ac1",
   "metadata": {},
   "outputs": [],
   "source": [
    "#Testing 1\n"
   ]
  },
  {
   "cell_type": "code",
   "execution_count": 30,
   "id": "0ecf6ca8",
   "metadata": {},
   "outputs": [],
   "source": [
    "url = 'https://raw.githubusercontent.com/mwitiderrick/stockprice/master/tatatest.csv'\n",
    "dataset_test = pd.read_csv(url)\n",
    "real_stock_price = dataset_test.iloc[:, 1:2].values"
   ]
  },
  {
   "cell_type": "code",
   "execution_count": 32,
   "id": "9394b3ff",
   "metadata": {},
   "outputs": [
    {
     "name": "stdout",
     "output_type": "stream",
     "text": [
      "1/1 [==============================] - 2s 2s/step\n"
     ]
    }
   ],
   "source": [
    "dataset_total = pd.concat((dataset_train['Open'], dataset_test['Open']), axis = 0)\n",
    "inputs = dataset_total[len(dataset_total) - len(dataset_test) - 60:].values\n",
    "inputs = inputs.reshape(-1,1)\n",
    "inputs = sc.transform(inputs)\n",
    "X_test = []\n",
    "for i in range(60, 76):\n",
    "    X_test.append(inputs[i-60:i, 0])\n",
    "X_test = np.array(X_test)\n",
    "X_test = np.reshape(X_test, (X_test.shape[0], X_test.shape[1], 1))\n",
    "predicted_stock_price = model.predict(X_test)\n",
    "predicted_stock_price = sc.inverse_transform(predicted_stock_price)"
   ]
  },
  {
   "cell_type": "code",
   "execution_count": 33,
   "id": "c58998c0",
   "metadata": {},
   "outputs": [],
   "source": [
    "#Visualization"
   ]
  },
  {
   "cell_type": "code",
   "execution_count": 34,
   "id": "d88b8407",
   "metadata": {},
   "outputs": [
    {
     "data": {
      "image/png": "[encoded data removed]",
      "text/plain": [
       "<Figure size 640x480 with 1 Axes>"
      ]
     },
     "metadata": {},
     "output_type": "display_data"
    }
   ],
   "source": [
    "plt.plot(real_stock_price, color = 'black', label = 'TATA Stock Price')\n",
    "plt.plot(predicted_stock_price, color = 'green', label = 'Predicted TATA Stock Price')\n",
    "plt.title('TATA Stock Price Prediction')\n",
    "plt.xlabel('Time')\n",
    "plt.ylabel('TATA Stock Price')\n",
    "plt.legend()\n",
    "plt.show()"
   ]
  },
  {
   "cell_type": "code",
   "execution_count": 35,
   "id": "6c57af73",
   "metadata": {},
   "outputs": [],
   "source": [
    "# Load the TensorBoard notebook extension\n",
    "%load_ext tensorboard\n"
   ]
  },
  {
   "cell_type": "code",
   "execution_count": 37,
   "id": "aa7aa927",
   "metadata": {},
   "outputs": [],
   "source": [
    "import datetime"
   ]
  },
  {
   "cell_type": "code",
   "execution_count": 38,
   "id": "4e4acc4f",
   "metadata": {},
   "outputs": [],
   "source": [
    "log_dir = \"logs/fit/\" + datetime.datetime.now().strftime(\"%Y%m%d-%H%M%S\")\n",
    "tensorboard_callback = tf.keras.callbacks.TensorBoard(log_dir=log_dir, histogram_freq=1)\n"
   ]
  },
  {
   "cell_type": "code",
   "execution_count": 39,
   "id": "d1f08287",
   "metadata": {},
   "outputs": [
    {
     "name": "stdout",
     "output_type": "stream",
     "text": [
      "Epoch 1/10\n",
      "62/62 [==============================] - 24s 234ms/step - loss: 0.0083\n",
      "Epoch 2/10\n",
      "62/62 [==============================] - 17s 271ms/step - loss: 0.0032\n",
      "Epoch 3/10\n",
      "62/62 [==============================] - 17s 267ms/step - loss: 0.0030\n",
      "Epoch 4/10\n",
      "62/62 [==============================] - 14s 230ms/step - loss: 0.0027\n",
      "Epoch 5/10\n",
      "62/62 [==============================] - 14s 225ms/step - loss: 0.0026\n",
      "Epoch 6/10\n",
      "62/62 [==============================] - 14s 226ms/step - loss: 0.0027\n",
      "Epoch 7/10\n",
      "62/62 [==============================] - 14s 224ms/step - loss: 0.0021\n",
      "Epoch 8/10\n",
      "62/62 [==============================] - 14s 231ms/step - loss: 0.0020\n",
      "Epoch 9/10\n",
      "62/62 [==============================] - 15s 235ms/step - loss: 0.0018\n",
      "Epoch 10/10\n",
      "62/62 [==============================] - 14s 230ms/step - loss: 0.0021\n"
     ]
    },
    {
     "data": {
      "text/plain": [
       "<keras.callbacks.History at 0x7f6cfe40ced0>"
      ]
     },
     "execution_count": 39,
     "metadata": {},
     "output_type": "execute_result"
    }
   ],
   "source": [
    "model = Sequential()\n",
    "model.add(LSTM(units=50,return_sequences=True,input_shape=(X_train.shape[1], 1)))\n",
    "model.add(Dropout(0.2))\n",
    "model.add(LSTM(units=50,return_sequences=True))\n",
    "model.add(Dropout(0.2))\n",
    "model.add(LSTM(units=50,return_sequences=True))\n",
    "model.add(Dropout(0.2))\n",
    "model.add(LSTM(units=50))\n",
    "model.add(Dropout(0.2))\n",
    "model.add(Dense(units=1))\n",
    "model.compile(optimizer='adam',loss='mean_squared_error')\n",
    "log_dir = \"logs/fit/\" + datetime.datetime.now().strftime(\"%Y%m%d-%H%M%S\")\n",
    "tensorboard_callback = tf.keras.callbacks.TensorBoard(log_dir=log_dir, histogram_freq=1)\n",
    "\n",
    "model.fit(X_train,y_train,epochs=10,batch_size=32)"
   ]
  },
  {
   "cell_type": "code",
   "execution_count": 40,
   "id": "8ded691c",
   "metadata": {},
   "outputs": [
    {
     "data": {
      "text/html": [
       "\n",
       "      <iframe id=\"tensorboard-frame-b0e713b339957a2d\" width=\"100%\" height=\"800\" frameborder=\"0\">\n",
       "      </iframe>\n",
       "      <script>\n",
       "        (function() {\n",
       "          const frame = document.getElementById(\"tensorboard-frame-b0e713b339957a2d\");\n",
       "          const url = new URL(\"/\", window.location);\n",
       "          const port = 6006;\n",
       "          if (port) {\n",
       "            url.port = port;\n",
       "          }\n",
       "          frame.src = url;\n",
       "        })();\n",
       "      </script>\n",
       "    "
      ],
      "text/plain": [
       "<IPython.core.display.HTML object>"
      ]
     },
     "metadata": {},
     "output_type": "display_data"
    }
   ],
   "source": [
    "%tensorboard --logdir logs/fit\n"
   ]
  },
  {
   "cell_type": "code",
   "execution_count": 46,
   "id": "b7f2b18b",
   "metadata": {},
   "outputs": [],
   "source": [
    "# tensorboard dev upload --logdir 'logs/fit'"
   ]
  },
  {
   "cell_type": "code",
   "execution_count": 45,
   "id": "ce150e3e",
   "metadata": {},
   "outputs": [],
   "source": [
    " # %tensorboard --logdir logs/gradient_tape\n"
   ]
  },
  {
   "cell_type": "code",
   "execution_count": 47,
   "id": "896a4927",
   "metadata": {},
   "outputs": [],
   "source": [
    "url = 'https://raw.githubusercontent.com/mwitiderrick/stockprice/master/tatatest.csv'\n",
    "dataset_test = pd.read_csv(url)\n",
    "real_stock_price = dataset_test.iloc[:, 1:2].values"
   ]
  },
  {
   "cell_type": "code",
   "execution_count": null,
   "id": "f954d2dc",
   "metadata": {},
   "outputs": [],
   "source": []
  }
 ],
 "metadata": {
  "kernelspec": {
   "display_name": "Python 3 (ipykernel)",
   "language": "python",
   "name": "python3"
  },
  "language_info": {
   "codemirror_mode": {
    "name": "ipython",
    "version": 3
   },
   "file_extension": ".py",
   "mimetype": "text/x-python",
   "name": "python",
   "nbconvert_exporter": "python",
   "pygments_lexer": "ipython3",
   "version": "3.7.16"
  }
 },
 "nbformat": 4,
 "nbformat_minor": 5
}
