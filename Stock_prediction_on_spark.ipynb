{
  "nbformat": 4,
  "nbformat_minor": 0,
  "metadata": {
    "colab": {
      "provenance": [],
      "authorship_tag": "ABX9TyPFvQU0Z3kRXYT7XXzFj6aP",
      "include_colab_link": true
    },
    "kernelspec": {
      "name": "python3",
      "display_name": "Python 3"
    },
    "language_info": {
      "name": "python"
    }
  },
  "cells": [
    {
      "cell_type": "markdown",
      "metadata": {
        "id": "view-in-github",
        "colab_type": "text"
      },
      "source": [
        "<a href=\"https://colab.research.google.com/github/Bike001/Real-time-stock-prediciton-/blob/master/Stock_prediction_on_spark.ipynb\" target=\"_parent\"><img src=\"https://colab.research.google.com/assets/colab-badge.svg\" alt=\"Open In Colab\"/></a>"
      ]
    },
    {
      "cell_type": "code",
      "execution_count": 1,
      "metadata": {
        "colab": {
          "base_uri": "https://localhost:8080/",
          "height": 0
        },
        "id": "iLruDSVoICiO",
        "outputId": "d559491e-1be6-41b0-a05a-18f744dc71b3"
      },
      "outputs": [
        {
          "output_type": "stream",
          "name": "stdout",
          "text": [
            "Collecting pyspark\n",
            "  Downloading pyspark-3.5.1.tar.gz (317.0 MB)\n",
            "\u001b[2K     \u001b[90m━━━━━━━━━━━━━━━━━━━━━━━━━━━━━━━━━━━━━━━━\u001b[0m \u001b[32m317.0/317.0 MB\u001b[0m \u001b[31m3.6 MB/s\u001b[0m eta \u001b[36m0:00:00\u001b[0m\n",
            "\u001b[?25h  Preparing metadata (setup.py) ... \u001b[?25l\u001b[?25hdone\n",
            "Requirement already satisfied: py4j==0.10.9.7 in /usr/local/lib/python3.10/dist-packages (from pyspark) (0.10.9.7)\n",
            "Building wheels for collected packages: pyspark\n",
            "  Building wheel for pyspark (setup.py) ... \u001b[?25l\u001b[?25hdone\n",
            "  Created wheel for pyspark: filename=pyspark-3.5.1-py2.py3-none-any.whl size=317488491 sha256=a30c5a8b5d5686eec65e84f0ac7c1c88b8bb4a0455773764877ce6d1975227bd\n",
            "  Stored in directory: /root/.cache/pip/wheels/80/1d/60/2c256ed38dddce2fdd93be545214a63e02fbd8d74fb0b7f3a6\n",
            "Successfully built pyspark\n",
            "Installing collected packages: pyspark\n",
            "Successfully installed pyspark-3.5.1\n"
          ]
        }
      ],
      "source": [
        "!pip install pyspark\n"
      ]
    },
    {
      "cell_type": "code",
      "source": [
        "from pyspark.sql import SparkSession\n",
        "spark = SparkSession.builder.master(\"local[*]\").appName(\"StockPricePrediction\").getOrCreate()\n"
      ],
      "metadata": {
        "id": "gwoLe0iCIT-c"
      },
      "execution_count": 2,
      "outputs": []
    },
    {
      "cell_type": "code",
      "source": [
        "from google.colab import files\n",
        "uploaded = files.upload()\n"
      ],
      "metadata": {
        "colab": {
          "base_uri": "https://localhost:8080/",
          "height": 71
        },
        "id": "YSCnzY88IXVq",
        "outputId": "4e9eaeea-8b88-485b-9e6d-fd8ed4bcaccf"
      },
      "execution_count": 3,
      "outputs": [
        {
          "output_type": "display_data",
          "data": {
            "text/plain": [
              "<IPython.core.display.HTML object>"
            ],
            "text/html": [
              "\n",
              "     <input type=\"file\" id=\"files-c916741f-c620-4f25-a186-2f35ff8eaa2c\" name=\"files[]\" multiple disabled\n",
              "        style=\"border:none\" />\n",
              "     <output id=\"result-c916741f-c620-4f25-a186-2f35ff8eaa2c\">\n",
              "      Upload widget is only available when the cell has been executed in the\n",
              "      current browser session. Please rerun this cell to enable.\n",
              "      </output>\n",
              "      <script>// Copyright 2017 Google LLC\n",
              "//\n",
              "// Licensed under the Apache License, Version 2.0 (the \"License\");\n",
              "// you may not use this file except in compliance with the License.\n",
              "// You may obtain a copy of the License at\n",
              "//\n",
              "//      http://www.apache.org/licenses/LICENSE-2.0\n",
              "//\n",
              "// Unless required by applicable law or agreed to in writing, software\n",
              "// distributed under the License is distributed on an \"AS IS\" BASIS,\n",
              "// WITHOUT WARRANTIES OR CONDITIONS OF ANY KIND, either express or implied.\n",
              "// See the License for the specific language governing permissions and\n",
              "// limitations under the License.\n",
              "\n",
              "/**\n",
              " * @fileoverview Helpers for google.colab Python module.\n",
              " */\n",
              "(function(scope) {\n",
              "function span(text, styleAttributes = {}) {\n",
              "  const element = document.createElement('span');\n",
              "  element.textContent = text;\n",
              "  for (const key of Object.keys(styleAttributes)) {\n",
              "    element.style[key] = styleAttributes[key];\n",
              "  }\n",
              "  return element;\n",
              "}\n",
              "\n",
              "// Max number of bytes which will be uploaded at a time.\n",
              "const MAX_PAYLOAD_SIZE = 100 * 1024;\n",
              "\n",
              "function _uploadFiles(inputId, outputId) {\n",
              "  const steps = uploadFilesStep(inputId, outputId);\n",
              "  const outputElement = document.getElementById(outputId);\n",
              "  // Cache steps on the outputElement to make it available for the next call\n",
              "  // to uploadFilesContinue from Python.\n",
              "  outputElement.steps = steps;\n",
              "\n",
              "  return _uploadFilesContinue(outputId);\n",
              "}\n",
              "\n",
              "// This is roughly an async generator (not supported in the browser yet),\n",
              "// where there are multiple asynchronous steps and the Python side is going\n",
              "// to poll for completion of each step.\n",
              "// This uses a Promise to block the python side on completion of each step,\n",
              "// then passes the result of the previous step as the input to the next step.\n",
              "function _uploadFilesContinue(outputId) {\n",
              "  const outputElement = document.getElementById(outputId);\n",
              "  const steps = outputElement.steps;\n",
              "\n",
              "  const next = steps.next(outputElement.lastPromiseValue);\n",
              "  return Promise.resolve(next.value.promise).then((value) => {\n",
              "    // Cache the last promise value to make it available to the next\n",
              "    // step of the generator.\n",
              "    outputElement.lastPromiseValue = value;\n",
              "    return next.value.response;\n",
              "  });\n",
              "}\n",
              "\n",
              "/**\n",
              " * Generator function which is called between each async step of the upload\n",
              " * process.\n",
              " * @param {string} inputId Element ID of the input file picker element.\n",
              " * @param {string} outputId Element ID of the output display.\n",
              " * @return {!Iterable<!Object>} Iterable of next steps.\n",
              " */\n",
              "function* uploadFilesStep(inputId, outputId) {\n",
              "  const inputElement = document.getElementById(inputId);\n",
              "  inputElement.disabled = false;\n",
              "\n",
              "  const outputElement = document.getElementById(outputId);\n",
              "  outputElement.innerHTML = '';\n",
              "\n",
              "  const pickedPromise = new Promise((resolve) => {\n",
              "    inputElement.addEventListener('change', (e) => {\n",
              "      resolve(e.target.files);\n",
              "    });\n",
              "  });\n",
              "\n",
              "  const cancel = document.createElement('button');\n",
              "  inputElement.parentElement.appendChild(cancel);\n",
              "  cancel.textContent = 'Cancel upload';\n",
              "  const cancelPromise = new Promise((resolve) => {\n",
              "    cancel.onclick = () => {\n",
              "      resolve(null);\n",
              "    };\n",
              "  });\n",
              "\n",
              "  // Wait for the user to pick the files.\n",
              "  const files = yield {\n",
              "    promise: Promise.race([pickedPromise, cancelPromise]),\n",
              "    response: {\n",
              "      action: 'starting',\n",
              "    }\n",
              "  };\n",
              "\n",
              "  cancel.remove();\n",
              "\n",
              "  // Disable the input element since further picks are not allowed.\n",
              "  inputElement.disabled = true;\n",
              "\n",
              "  if (!files) {\n",
              "    return {\n",
              "      response: {\n",
              "        action: 'complete',\n",
              "      }\n",
              "    };\n",
              "  }\n",
              "\n",
              "  for (const file of files) {\n",
              "    const li = document.createElement('li');\n",
              "    li.append(span(file.name, {fontWeight: 'bold'}));\n",
              "    li.append(span(\n",
              "        `(${file.type || 'n/a'}) - ${file.size} bytes, ` +\n",
              "        `last modified: ${\n",
              "            file.lastModifiedDate ? file.lastModifiedDate.toLocaleDateString() :\n",
              "                                    'n/a'} - `));\n",
              "    const percent = span('0% done');\n",
              "    li.appendChild(percent);\n",
              "\n",
              "    outputElement.appendChild(li);\n",
              "\n",
              "    const fileDataPromise = new Promise((resolve) => {\n",
              "      const reader = new FileReader();\n",
              "      reader.onload = (e) => {\n",
              "        resolve(e.target.result);\n",
              "      };\n",
              "      reader.readAsArrayBuffer(file);\n",
              "    });\n",
              "    // Wait for the data to be ready.\n",
              "    let fileData = yield {\n",
              "      promise: fileDataPromise,\n",
              "      response: {\n",
              "        action: 'continue',\n",
              "      }\n",
              "    };\n",
              "\n",
              "    // Use a chunked sending to avoid message size limits. See b/62115660.\n",
              "    let position = 0;\n",
              "    do {\n",
              "      const length = Math.min(fileData.byteLength - position, MAX_PAYLOAD_SIZE);\n",
              "      const chunk = new Uint8Array(fileData, position, length);\n",
              "      position += length;\n",
              "\n",
              "      const base64 = btoa(String.fromCharCode.apply(null, chunk));\n",
              "      yield {\n",
              "        response: {\n",
              "          action: 'append',\n",
              "          file: file.name,\n",
              "          data: base64,\n",
              "        },\n",
              "      };\n",
              "\n",
              "      let percentDone = fileData.byteLength === 0 ?\n",
              "          100 :\n",
              "          Math.round((position / fileData.byteLength) * 100);\n",
              "      percent.textContent = `${percentDone}% done`;\n",
              "\n",
              "    } while (position < fileData.byteLength);\n",
              "  }\n",
              "\n",
              "  // All done.\n",
              "  yield {\n",
              "    response: {\n",
              "      action: 'complete',\n",
              "    }\n",
              "  };\n",
              "}\n",
              "\n",
              "scope.google = scope.google || {};\n",
              "scope.google.colab = scope.google.colab || {};\n",
              "scope.google.colab._files = {\n",
              "  _uploadFiles,\n",
              "  _uploadFilesContinue,\n",
              "};\n",
              "})(self);\n",
              "</script> "
            ]
          },
          "metadata": {}
        },
        {
          "output_type": "stream",
          "name": "stdout",
          "text": [
            "Saving AAPL.csv to AAPL.csv\n"
          ]
        }
      ]
    },
    {
      "cell_type": "code",
      "source": [
        "df = spark.read.csv(\"AAPL.csv\", header=True, inferSchema=True).select(\"Date\", \"Open\")\n",
        "df.show(15)\n"
      ],
      "metadata": {
        "colab": {
          "base_uri": "https://localhost:8080/",
          "height": 0
        },
        "id": "PLGToGr0IdeR",
        "outputId": "7ecd3e4e-375c-470a-8df6-42311dfc2936"
      },
      "execution_count": 11,
      "outputs": [
        {
          "output_type": "stream",
          "name": "stdout",
          "text": [
            "+----------+------------------+\n",
            "|      Date|              Open|\n",
            "+----------+------------------+\n",
            "|1980-12-12|0.5133928656578064|\n",
            "|1980-12-15|0.4888392984867096|\n",
            "|1980-12-16|          0.453125|\n",
            "|1980-12-17|0.4620535671710968|\n",
            "|1980-12-18|0.4754464328289032|\n",
            "|1980-12-19|0.5044642686843872|\n",
            "|1980-12-22|0.5290178656578064|\n",
            "|1980-12-23|0.5513392686843872|\n",
            "|1980-12-24|0.5803571343421936|\n",
            "|1980-12-26|0.6339285969734192|\n",
            "|1980-12-29|0.6428571343421936|\n",
            "|1980-12-30|0.6294642686843872|\n",
            "|1980-12-31|0.6116071343421936|\n",
            "|1981-01-02|0.6160714030265808|\n",
            "|1981-01-05|0.6049107313156128|\n",
            "+----------+------------------+\n",
            "only showing top 15 rows\n",
            "\n"
          ]
        }
      ]
    },
    {
      "cell_type": "code",
      "source": [
        "# Create a window specification which orders by the date\n",
        "windowSpec = Window.orderBy(\"Date\")\n",
        "\n",
        "# Add lagged features for the past 20 days\n",
        "for i in range(1, 21):\n",
        "    df = df.withColumn(f\"lag_{i}\", F.lag(\"Open\", i).over(windowSpec))\n",
        "\n",
        "# Add column for the next day's open price\n",
        "df = df.withColumn(\"label\", F.lead(\"Open\", 1).over(windowSpec))\n",
        "\n",
        "# Drop rows with any null values (these will be the first 20 and last 1 rows)\n",
        "df = df.dropna()\n",
        "\n",
        "\n",
        "df.show(10)\n"
      ],
      "metadata": {
        "colab": {
          "base_uri": "https://localhost:8080/",
          "height": 0
        },
        "id": "WUoJ2QcbIpwd",
        "outputId": "7ef5b5a7-dfd7-42c6-ed28-e41dfea26dca"
      },
      "execution_count": 14,
      "outputs": [
        {
          "output_type": "stream",
          "name": "stdout",
          "text": [
            "+----------+------------------+------------------+------------------+------------------+------------------+------------------+------------------+------------------+------------------+------------------+------------------+------------------+------------------+------------------+------------------+------------------+------------------+------------------+------------------+------------------+------------------+------------------+\n",
            "|      Date|              Open|             lag_1|             lag_2|             lag_3|             lag_4|             lag_5|             lag_6|             lag_7|             lag_8|             lag_9|            lag_10|            lag_11|            lag_12|            lag_13|            lag_14|            lag_15|            lag_16|            lag_17|            lag_18|            lag_19|            lag_20|             label|\n",
            "+----------+------------------+------------------+------------------+------------------+------------------+------------------+------------------+------------------+------------------+------------------+------------------+------------------+------------------+------------------+------------------+------------------+------------------+------------------+------------------+------------------+------------------+------------------+\n",
            "|1981-03-11|          0.390625|0.4040178656578064|0.4241071343421936|0.4620535671710968|0.4642857015132904|0.4665178656578064|0.4709821343421936|0.4754464328289032|0.4732142984867096|0.4575892984867096|0.4508928656578064|0.4285714328289032|0.4397321343421936|0.4352678656578064|0.4598214328289032|0.4866071343421936|0.4665178656578064|0.4598214328289032|           0.46875|0.4732142984867096|0.4866071343421936|0.4017857015132904|\n",
            "|1981-03-12|0.4017857015132904|          0.390625|0.4040178656578064|0.4241071343421936|0.4620535671710968|0.4642857015132904|0.4665178656578064|0.4709821343421936|0.4754464328289032|0.4732142984867096|0.4575892984867096|0.4508928656578064|0.4285714328289032|0.4397321343421936|0.4352678656578064|0.4598214328289032|0.4866071343421936|0.4665178656578064|0.4598214328289032|           0.46875|0.4732142984867096|0.3995535671710968|\n",
            "|1981-03-13|0.3995535671710968|0.4017857015132904|          0.390625|0.4040178656578064|0.4241071343421936|0.4620535671710968|0.4642857015132904|0.4665178656578064|0.4709821343421936|0.4754464328289032|0.4732142984867096|0.4575892984867096|0.4508928656578064|0.4285714328289032|0.4397321343421936|0.4352678656578064|0.4598214328289032|0.4866071343421936|0.4665178656578064|0.4598214328289032|           0.46875|0.4129464328289032|\n",
            "|1981-03-16|0.4129464328289032|0.3995535671710968|0.4017857015132904|          0.390625|0.4040178656578064|0.4241071343421936|0.4620535671710968|0.4642857015132904|0.4665178656578064|0.4709821343421936|0.4754464328289032|0.4732142984867096|0.4575892984867096|0.4508928656578064|0.4285714328289032|0.4397321343421936|0.4352678656578064|0.4598214328289032|0.4866071343421936|0.4665178656578064|0.4598214328289032|0.4330357015132904|\n",
            "|1981-03-17|0.4330357015132904|0.4129464328289032|0.3995535671710968|0.4017857015132904|          0.390625|0.4040178656578064|0.4241071343421936|0.4620535671710968|0.4642857015132904|0.4665178656578064|0.4709821343421936|0.4754464328289032|0.4732142984867096|0.4575892984867096|0.4508928656578064|0.4285714328289032|0.4397321343421936|0.4352678656578064|0.4598214328289032|0.4866071343421936|0.4665178656578064|0.4598214328289032|\n",
            "|1981-03-18|0.4598214328289032|0.4330357015132904|0.4129464328289032|0.3995535671710968|0.4017857015132904|          0.390625|0.4040178656578064|0.4241071343421936|0.4620535671710968|0.4642857015132904|0.4665178656578064|0.4709821343421936|0.4754464328289032|0.4732142984867096|0.4575892984867096|0.4508928656578064|0.4285714328289032|0.4397321343421936|0.4352678656578064|0.4598214328289032|0.4866071343421936|0.4575892984867096|\n",
            "|1981-03-19|0.4575892984867096|0.4598214328289032|0.4330357015132904|0.4129464328289032|0.3995535671710968|0.4017857015132904|          0.390625|0.4040178656578064|0.4241071343421936|0.4620535671710968|0.4642857015132904|0.4665178656578064|0.4709821343421936|0.4754464328289032|0.4732142984867096|0.4575892984867096|0.4508928656578064|0.4285714328289032|0.4397321343421936|0.4352678656578064|0.4598214328289032|0.4598214328289032|\n",
            "|1981-03-20|0.4598214328289032|0.4575892984867096|0.4598214328289032|0.4330357015132904|0.4129464328289032|0.3995535671710968|0.4017857015132904|          0.390625|0.4040178656578064|0.4241071343421936|0.4620535671710968|0.4642857015132904|0.4665178656578064|0.4709821343421936|0.4754464328289032|0.4732142984867096|0.4575892984867096|0.4508928656578064|0.4285714328289032|0.4397321343421936|0.4352678656578064|0.4776785671710968|\n",
            "|1981-03-23|0.4776785671710968|0.4598214328289032|0.4575892984867096|0.4598214328289032|0.4330357015132904|0.4129464328289032|0.3995535671710968|0.4017857015132904|          0.390625|0.4040178656578064|0.4241071343421936|0.4620535671710968|0.4642857015132904|0.4665178656578064|0.4709821343421936|0.4754464328289032|0.4732142984867096|0.4575892984867096|0.4508928656578064|0.4285714328289032|0.4397321343421936|0.4776785671710968|\n",
            "|1981-03-24|0.4776785671710968|0.4776785671710968|0.4598214328289032|0.4575892984867096|0.4598214328289032|0.4330357015132904|0.4129464328289032|0.3995535671710968|0.4017857015132904|          0.390625|0.4040178656578064|0.4241071343421936|0.4620535671710968|0.4642857015132904|0.4665178656578064|0.4709821343421936|0.4754464328289032|0.4732142984867096|0.4575892984867096|0.4508928656578064|0.4285714328289032|0.4709821343421936|\n",
            "+----------+------------------+------------------+------------------+------------------+------------------+------------------+------------------+------------------+------------------+------------------+------------------+------------------+------------------+------------------+------------------+------------------+------------------+------------------+------------------+------------------+------------------+------------------+\n",
            "only showing top 10 rows\n",
            "\n"
          ]
        }
      ]
    },
    {
      "cell_type": "code",
      "source": [
        "# Select features and label\n",
        "feature_cols = [f\"lag_{i}\" for i in range(1, 21)] + [\"label\"]\n",
        "df = df.select(*feature_cols)\n",
        "\n",
        "# Show the first few rows to verify\n",
        "df.show(5)\n",
        "\n"
      ],
      "metadata": {
        "colab": {
          "base_uri": "https://localhost:8080/",
          "height": 0
        },
        "id": "mJBQiYowI1Qw",
        "outputId": "71431f49-d1e1-4ff3-b5ee-3bde8372fc25"
      },
      "execution_count": 15,
      "outputs": [
        {
          "output_type": "stream",
          "name": "stdout",
          "text": [
            "+------------------+------------------+------------------+------------------+------------------+------------------+------------------+------------------+------------------+------------------+------------------+------------------+------------------+------------------+------------------+------------------+------------------+------------------+------------------+------------------+------------------+\n",
            "|             lag_1|             lag_2|             lag_3|             lag_4|             lag_5|             lag_6|             lag_7|             lag_8|             lag_9|            lag_10|            lag_11|            lag_12|            lag_13|            lag_14|            lag_15|            lag_16|            lag_17|            lag_18|            lag_19|            lag_20|             label|\n",
            "+------------------+------------------+------------------+------------------+------------------+------------------+------------------+------------------+------------------+------------------+------------------+------------------+------------------+------------------+------------------+------------------+------------------+------------------+------------------+------------------+------------------+\n",
            "|0.4040178656578064|0.4241071343421936|0.4620535671710968|0.4642857015132904|0.4665178656578064|0.4709821343421936|0.4754464328289032|0.4732142984867096|0.4575892984867096|0.4508928656578064|0.4285714328289032|0.4397321343421936|0.4352678656578064|0.4598214328289032|0.4866071343421936|0.4665178656578064|0.4598214328289032|           0.46875|0.4732142984867096|0.4866071343421936|0.4017857015132904|\n",
            "|          0.390625|0.4040178656578064|0.4241071343421936|0.4620535671710968|0.4642857015132904|0.4665178656578064|0.4709821343421936|0.4754464328289032|0.4732142984867096|0.4575892984867096|0.4508928656578064|0.4285714328289032|0.4397321343421936|0.4352678656578064|0.4598214328289032|0.4866071343421936|0.4665178656578064|0.4598214328289032|           0.46875|0.4732142984867096|0.3995535671710968|\n",
            "|0.4017857015132904|          0.390625|0.4040178656578064|0.4241071343421936|0.4620535671710968|0.4642857015132904|0.4665178656578064|0.4709821343421936|0.4754464328289032|0.4732142984867096|0.4575892984867096|0.4508928656578064|0.4285714328289032|0.4397321343421936|0.4352678656578064|0.4598214328289032|0.4866071343421936|0.4665178656578064|0.4598214328289032|           0.46875|0.4129464328289032|\n",
            "|0.3995535671710968|0.4017857015132904|          0.390625|0.4040178656578064|0.4241071343421936|0.4620535671710968|0.4642857015132904|0.4665178656578064|0.4709821343421936|0.4754464328289032|0.4732142984867096|0.4575892984867096|0.4508928656578064|0.4285714328289032|0.4397321343421936|0.4352678656578064|0.4598214328289032|0.4866071343421936|0.4665178656578064|0.4598214328289032|0.4330357015132904|\n",
            "|0.4129464328289032|0.3995535671710968|0.4017857015132904|          0.390625|0.4040178656578064|0.4241071343421936|0.4620535671710968|0.4642857015132904|0.4665178656578064|0.4709821343421936|0.4754464328289032|0.4732142984867096|0.4575892984867096|0.4508928656578064|0.4285714328289032|0.4397321343421936|0.4352678656578064|0.4598214328289032|0.4866071343421936|0.4665178656578064|0.4598214328289032|\n",
            "+------------------+------------------+------------------+------------------+------------------+------------------+------------------+------------------+------------------+------------------+------------------+------------------+------------------+------------------+------------------+------------------+------------------+------------------+------------------+------------------+------------------+\n",
            "only showing top 5 rows\n",
            "\n"
          ]
        }
      ]
    },
    {
      "cell_type": "code",
      "source": [
        "# Select features and label\n",
        "from pyspark.ml.feature import VectorAssembler\n",
        "from pyspark.ml import Pipeline\n",
        "from pyspark.sql.functions import col\n",
        "\n",
        "# Assemble the features into a single feature vector\n",
        "assembler = VectorAssembler(inputCols=feature_cols[:-1], outputCol=\"features\")\n",
        "\n",
        "# Optionally convert the label to a float type if it's not already\n",
        "df = df.withColumn(\"label\", col(\"label\").cast(\"float\"))\n",
        "\n",
        "# Split the data into training and test sets\n",
        "train_data, test_data = df.randomSplit([0.8, 0.2], seed=42)\n",
        "\n"
      ],
      "metadata": {
        "id": "4z7rm2QoXQYa"
      },
      "execution_count": 25,
      "outputs": []
    },
    {
      "cell_type": "code",
      "source": [
        "from pyspark.ml.feature import StandardScaler, VectorAssembler\n",
        "from pyspark.ml import Pipeline\n",
        "from pyspark.ml.regression import LinearRegression\n",
        "\n",
        "# Assemble the features into a single feature vector\n",
        "assembler = VectorAssembler(inputCols=feature_cols[:-1], outputCol=\"features\")\n",
        "\n",
        "# Scale the features\n",
        "scaler = StandardScaler(inputCol=\"features\", outputCol=\"scaledFeatures\", withStd=True, withMean=True)\n",
        "\n",
        "# Define a pipeline that includes both assembling and scaling\n",
        "pipeline = Pipeline(stages=[assembler, scaler])\n",
        "\n",
        "# Fit the pipeline to the training data\n",
        "pipelineModel = pipeline.fit(train_data)\n",
        "\n",
        "# Transform both training and testing datasets\n",
        "train_data = pipelineModel.transform(train_data)\n",
        "test_data = pipelineModel.transform(test_data)\n",
        "\n"
      ],
      "metadata": {
        "id": "F1SnW6rGXX2c"
      },
      "execution_count": 26,
      "outputs": []
    },
    {
      "cell_type": "code",
      "source": [
        "# Show the first few rows of the transformed training data\n",
        "train_data.select(\"features\", \"scaledFeatures\", \"label\").show(5)"
      ],
      "metadata": {
        "colab": {
          "base_uri": "https://localhost:8080/",
          "height": 0
        },
        "id": "erVKNX8sYXQg",
        "outputId": "868f1502-a6e0-4696-ee1d-2ac825726443"
      },
      "execution_count": 27,
      "outputs": [
        {
          "output_type": "stream",
          "name": "stdout",
          "text": [
            "+--------------------+--------------------+----------+\n",
            "|            features|      scaledFeatures|     label|\n",
            "+--------------------+--------------------+----------+\n",
            "|[0.19866071641445...|[-0.5550840333597...|0.20758928|\n",
            "|[0.203125,0.19866...|[-0.5550076428654...|0.22098215|\n",
            "|[0.20758928358554...|[-0.5549312523711...|0.22321428|\n",
            "|[0.20758928358554...|[-0.5549312523711...|0.19866072|\n",
            "|[0.21651785075664...|[-0.5547784713824...|0.20535715|\n",
            "+--------------------+--------------------+----------+\n",
            "only showing top 5 rows\n",
            "\n"
          ]
        }
      ]
    },
    {
      "cell_type": "code",
      "source": [
        "from pyspark.ml.regression import LinearRegression\n",
        "\n",
        "# Initialize the linear regression model\n",
        "lr = LinearRegression(featuresCol=\"scaledFeatures\", labelCol=\"label\")\n",
        "\n",
        "# Train the model on the training data\n",
        "lrModel = lr.fit(train_data)\n",
        "\n",
        "# Print the coefficients and intercept of the model\n",
        "print(\"Coefficients:\", lrModel.coefficients)\n",
        "print(\"Intercept:\", lrModel.intercept)\n"
      ],
      "metadata": {
        "colab": {
          "base_uri": "https://localhost:8080/",
          "height": 0
        },
        "id": "qUgJqPdpYb3e",
        "outputId": "1ba283e2-69ef-403a-ab1d-f0bd847573b0"
      },
      "execution_count": 29,
      "outputs": [
        {
          "output_type": "stream",
          "name": "stdout",
          "text": [
            "Coefficients: [50.99190062016939,2.8872432932386243,0.8421789917923502,6.10821049616707,6.02483725550703,-5.125983040980264,-3.9009550491176688,-0.4620940215576214,3.616750819424749,3.7478466609098198,-9.458256665743654,7.60337966465072,1.6509025057823568,-5.8874240984172115,5.028579667413049,2.0204531856366077,1.25711402600923,-4.040964138171333,-3.4387974775715455,-0.9533390025541219]\n",
            "Intercept: 32.695935027557226\n"
          ]
        }
      ]
    },
    {
      "cell_type": "code",
      "source": [
        "from pyspark.ml.evaluation import RegressionEvaluator\n",
        "\n",
        "# Define the evaluator for use with the cross-validator\n",
        "evaluator = RegressionEvaluator(labelCol=\"label\", predictionCol=\"prediction\", metricName=\"rmse\")"
      ],
      "metadata": {
        "id": "u3-FSXoxZT4p"
      },
      "execution_count": 32,
      "outputs": []
    },
    {
      "cell_type": "code",
      "source": [
        "from pyspark.ml.tuning import ParamGridBuilder, CrossValidator\n",
        "\n",
        "# Define parameter grid for tuning\n",
        "paramGrid = ParamGridBuilder() \\\n",
        "    .addGrid(lr.regParam, [0.1, 0.01, 0.001]) \\\n",
        "    .addGrid(lr.elasticNetParam, [0.0, 0.5, 1.0]) \\\n",
        "    .build()\n",
        "\n",
        "# Setup CrossValidator\n",
        "cv = CrossValidator(estimator=lr, estimatorParamMaps=paramGrid, evaluator=evaluator, numFolds=5)\n",
        "\n",
        "# Run cross validations to find the best model\n",
        "cvModel = cv.fit(train_data)\n",
        "\n",
        "# Use the best model to make predictions on the test data\n",
        "bestModel = cvModel.bestModel\n",
        "predictions = bestModel.transform(test_data)\n",
        "bestRmse = evaluator.evaluate(predictions)\n",
        "print(f\"Best RMSE: {bestRmse}\")\n"
      ],
      "metadata": {
        "colab": {
          "base_uri": "https://localhost:8080/",
          "height": 0
        },
        "id": "NRAnm_fCYnd0",
        "outputId": "de22060d-ac9e-47da-9b43-5030fa42add9"
      },
      "execution_count": 33,
      "outputs": [
        {
          "output_type": "stream",
          "name": "stdout",
          "text": [
            "Best RMSE: 1.6927210181328785\n"
          ]
        }
      ]
    },
    {
      "cell_type": "code",
      "source": [
        "from pyspark.sql import Row\n",
        "\n",
        "# Example new data point (the last 20 days' \"Open\" prices)\n",
        "new_data = [\n",
        "    Row(lag_1=100.5, lag_2=101.2, lag_3=102.3, lag_4=100.0,\n",
        "        lag_5=99.5, lag_6=98.3, lag_7=97.6, lag_8=98.4,\n",
        "        lag_9=97.8, lag_10=96.9, lag_11=98.2, lag_12=99.1,\n",
        "        lag_13=100.1, lag_14=100.7, lag_15=101.8, lag_16=102.6,\n",
        "        lag_17=103.5, lag_18=104.3, lag_19=105.2, lag_20=95.7)\n",
        "]\n",
        "\n",
        "# Create DataFrame\n",
        "sample_data = spark.createDataFrame(new_data)\n",
        "\n",
        "# Transform and predict\n",
        "sample_data_transformed = pipelineModel.transform(sample_data)\n",
        "sample_predictions = bestModel.transform(sample_data_transformed)\n",
        "\n",
        "# Display predictions\n",
        "sample_predictions.select(\"prediction\").show()\n"
      ],
      "metadata": {
        "colab": {
          "base_uri": "https://localhost:8080/",
          "height": 0
        },
        "id": "JnO5ikaxZqDS",
        "outputId": "7f3d88c7-c1d2-43b6-ad2c-9f7a7875b77c"
      },
      "execution_count": 34,
      "outputs": [
        {
          "output_type": "stream",
          "name": "stdout",
          "text": [
            "+------------------+\n",
            "|        prediction|\n",
            "+------------------+\n",
            "|100.73291543108093|\n",
            "+------------------+\n",
            "\n"
          ]
        }
      ]
    }
  ]
}